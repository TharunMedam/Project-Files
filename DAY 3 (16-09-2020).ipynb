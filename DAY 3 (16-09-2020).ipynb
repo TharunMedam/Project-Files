{
 "cells": [
  {
   "cell_type": "markdown",
   "metadata": {},
   "source": [
    "# TODAY CONCEPTS\n",
    "### JUPYTER NOTEBOOK INSTALLATION\n",
    "- To install jupyter we have to run a cmd pip install jupyter\n",
    "- To open jupyter notebook we have to run a cmd i.e, jupyter notebook\n",
    "\n",
    "### MAIN HEADING\n",
    "- #### SUB HEADING1\n",
    "    - #### SUB HEADING2\n",
    "<h3>H3 TAG</h3>\n",
    "<a href=\"\">I am <a> tag</a>\n",
    "<img src='images1.png'>"
   ]
  },
  {
   "cell_type": "code",
   "execution_count": 1,
   "metadata": {},
   "outputs": [
    {
     "name": "stdout",
     "output_type": "stream",
     "text": [
      "HI HELLO\n",
      "This is jupyter notebook\n",
      "hey how are u?\n"
     ]
    },
    {
     "data": {
      "text/plain": [
       "13"
      ]
     },
     "execution_count": 1,
     "metadata": {},
     "output_type": "execute_result"
    }
   ],
   "source": [
    "print(\"HI HELLO\")\n",
    "print(\"This is jupyter notebook\")\n",
    "10+5\n",
    "print(\"hey how are u?\")\n",
    "11+2"
   ]
  }
 ],
 "metadata": {
  "kernelspec": {
   "display_name": "Python 3",
   "language": "python",
   "name": "python3"
  },
  "language_info": {
   "codemirror_mode": {
    "name": "ipython",
    "version": 3
   },
   "file_extension": ".py",
   "mimetype": "text/x-python",
   "name": "python",
   "nbconvert_exporter": "python",
   "pygments_lexer": "ipython3",
   "version": "3.7.4"
  }
 },
 "nbformat": 4,
 "nbformat_minor": 4
}
