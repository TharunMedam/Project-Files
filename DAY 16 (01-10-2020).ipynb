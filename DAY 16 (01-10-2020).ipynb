{
 "cells": [
  {
   "cell_type": "markdown",
   "metadata": {},
   "source": [
    "# File Handling:\n",
    "\n",
    "- what is a file\n",
    "- what is a file handling\n",
    "- file methods\n",
    "- different modes\n",
    "- use of \"width\" statements\n",
    "- File:\n",
    "     - file is saved in some locations on local systems to store some information \n",
    "- Ex : \n",
    "     - .txt, .jpg, .html, .png, .pgf\n",
    "- file handling:\n",
    "     - create , reading , update , delete\n",
    "     - create\n",
    "     - open\n",
    "     - working\n",
    "     - close\n",
    "- file methods\n",
    "     - open()\n",
    "         - syntax : file_obj = open(\"filename\",\"mode\") \n",
    "     - read()\n",
    "          - synax : file_obj.read(size)\n",
    "     - write()\n",
    "         - syntax : file_obj.write(data)\n",
    "     - close()\n",
    "         - syntax : file_obj.close()\n",
    "     - readline()\n",
    "         - syntax : file_obj.readlines()\n",
    "         \n",
    "- Different modes:\n",
    "     - open(\"filename\",\"mode\")\n",
    "     - open(\"filename\",\"r\")\n",
    "     - open(\"filename\",\"w\")\n",
    "     - open(\"filename\",\"a\")\n",
    "     - open(\"filename\",\"r+\")\n",
    "     - open(\"filename\",\"w+\")"
   ]
  },
  {
   "cell_type": "markdown",
   "metadata": {},
   "source": [
    "- TASK:\n",
    "    - read the data in reverse order\n"
   ]
  },
  {
   "cell_type": "code",
   "execution_count": 2,
   "metadata": {},
   "outputs": [
    {
     "ename": "FileNotFoundError",
     "evalue": "[Errno 2] No such file or directory: 'file.txt'",
     "output_type": "error",
     "traceback": [
      "\u001b[1;31m---------------------------------------------------------------------------\u001b[0m",
      "\u001b[1;31mFileNotFoundError\u001b[0m                         Traceback (most recent call last)",
      "\u001b[1;32m<ipython-input-2-cac011d1eb5a>\u001b[0m in \u001b[0;36m<module>\u001b[1;34m\u001b[0m\n\u001b[1;32m----> 1\u001b[1;33m \u001b[1;32mwith\u001b[0m \u001b[0mopen\u001b[0m\u001b[1;33m(\u001b[0m\u001b[1;34m\"file.txt\"\u001b[0m\u001b[1;33m,\u001b[0m\u001b[1;34m\"r\"\u001b[0m\u001b[1;33m)\u001b[0m \u001b[1;32mas\u001b[0m \u001b[0mfile\u001b[0m\u001b[1;33m:\u001b[0m\u001b[1;33m\u001b[0m\u001b[1;33m\u001b[0m\u001b[0m\n\u001b[0m\u001b[0;32m      2\u001b[0m     \u001b[0mdata\u001b[0m\u001b[1;33m=\u001b[0m\u001b[0mfile\u001b[0m\u001b[1;33m.\u001b[0m\u001b[0mread\u001b[0m\u001b[1;33m(\u001b[0m\u001b[1;33m)\u001b[0m\u001b[1;33m\u001b[0m\u001b[1;33m\u001b[0m\u001b[0m\n\u001b[0;32m      3\u001b[0m     \u001b[0mprint\u001b[0m\u001b[1;33m(\u001b[0m\u001b[1;33m)\u001b[0m\u001b[1;33m\u001b[0m\u001b[1;33m\u001b[0m\u001b[0m\n",
      "\u001b[1;31mFileNotFoundError\u001b[0m: [Errno 2] No such file or directory: 'file.txt'"
     ]
    }
   ],
   "source": [
    "with open(\"file.txt\",\"r\") as file:\n",
    "    data=file.read()\n",
    "    print()"
   ]
  },
  {
   "cell_type": "code",
   "execution_count": 3,
   "metadata": {},
   "outputs": [
    {
     "name": "stdout",
     "output_type": "stream",
     "text": [
      "Done\n"
     ]
    }
   ],
   "source": [
    "# creating a file \n",
    "f = open(\"file.txt\",\"w\")\n",
    "data = \"welcome to python internship program\"\n",
    "f.write(data)\n",
    "print(\"Done\")\n",
    "f.close()"
   ]
  },
  {
   "cell_type": "code",
   "execution_count": 4,
   "metadata": {},
   "outputs": [
    {
     "name": "stdout",
     "output_type": "stream",
     "text": [
      "welcome to python internship program\n"
     ]
    }
   ],
   "source": [
    "# reading the data\n",
    "file = open(\"file.txt\",\"r\")\n",
    "data1 = file.read()\n",
    "print(data1)\n",
    "file.close()"
   ]
  },
  {
   "cell_type": "code",
   "execution_count": 5,
   "metadata": {},
   "outputs": [
    {
     "name": "stdout",
     "output_type": "stream",
     "text": [
      "completed\n"
     ]
    }
   ],
   "source": [
    "# append same data\n",
    "file = open(\"file.txt\",\"a\")\n",
    "#data1 = \"Hello everyone\"\n",
    "file.write(\"\\n\"+\"Hello everyone\")\n",
    "print(\"completed\")\n",
    "file.close()"
   ]
  },
  {
   "cell_type": "code",
   "execution_count": 6,
   "metadata": {},
   "outputs": [
    {
     "name": "stdout",
     "output_type": "stream",
     "text": [
      "welcome to python internship program\n",
      "Hello everyone\n"
     ]
    }
   ],
   "source": [
    "with open(\"file.txt\",\"r\") as file:\n",
    "    data = file.read()\n",
    "    print(data)"
   ]
  },
  {
   "cell_type": "code",
   "execution_count": 7,
   "metadata": {},
   "outputs": [
    {
     "name": "stdout",
     "output_type": "stream",
     "text": [
      "enter somedata10\n",
      "completed....................\n"
     ]
    }
   ],
   "source": [
    "file = open(\"file2.txt\",\"w\")\n",
    "file.write(input(\"enter somedata\"))\n",
    "print(\"completed\"+(\".\"*20))\n",
    "file.close()"
   ]
  },
  {
   "cell_type": "markdown",
   "metadata": {},
   "source": [
    "# \\ replace width \\\\\n",
    "# \\ replace width /\n",
    "# r -> rawpath,r\"D:\\\"\""
   ]
  },
  {
   "cell_type": "markdown",
   "metadata": {},
   "source": [
    "file object methods select() used to change the cursor position tell() used to know the cursor position"
   ]
  },
  {
   "cell_type": "code",
   "execution_count": 15,
   "metadata": {},
   "outputs": [
    {
     "name": "stdout",
     "output_type": "stream",
     "text": [
      "11\n",
      "welcome to \n",
      "20\n"
     ]
    }
   ],
   "source": [
    "f = open(\"file.txt\",\"r\")\n",
    "data = f.read(11)\n",
    "print(f.tell())\n",
    "print(data)\n",
    "f.seek(20)\n",
    "print(f.tell())\n",
    "f.close()"
   ]
  },
  {
   "cell_type": "code",
   "execution_count": 16,
   "metadata": {},
   "outputs": [
    {
     "name": "stdout",
     "output_type": "stream",
     "text": [
      "enoyreve olleH\n",
      "margorp pihsnretni nohtyp ot emoclew\n"
     ]
    }
   ],
   "source": [
    "with open(\"file.txt\",\"r\") as file:\n",
    "     data = file.read()\n",
    "     print(data[::-1])"
   ]
  },
  {
   "cell_type": "code",
   "execution_count": 17,
   "metadata": {},
   "outputs": [
    {
     "data": {
      "text/plain": [
       "'gnirts'"
      ]
     },
     "execution_count": 17,
     "metadata": {},
     "output_type": "execute_result"
    }
   ],
   "source": [
    "a = \"string\"\n",
    "#gnirts\n",
    "a[::-1]"
   ]
  },
  {
   "cell_type": "code",
   "execution_count": 18,
   "metadata": {},
   "outputs": [
    {
     "name": "stdout",
     "output_type": "stream",
     "text": [
      "['welcome to python internship program\\n', 'Hello everyone']\n"
     ]
    }
   ],
   "source": [
    "with open(\"file.txt\",\"r\") as file:\n",
    "    data = file.readlines()\n",
    "    print(data)"
   ]
  },
  {
   "cell_type": "code",
   "execution_count": 19,
   "metadata": {},
   "outputs": [
    {
     "name": "stdout",
     "output_type": "stream",
     "text": [
      "welcome to python internship program\n",
      "\n",
      "Hello everyone\n"
     ]
    }
   ],
   "source": [
    "with open(\"file.txt\",\"r\") as file:\n",
    "    data = file.readlines()\n",
    "    for i in data:\n",
    "        print(i)"
   ]
  },
  {
   "cell_type": "code",
   "execution_count": 20,
   "metadata": {},
   "outputs": [
    {
     "name": "stdout",
     "output_type": "stream",
     "text": [
      "['welcome to python internship program\\n', 'Hello everyone']\n",
      "welcome to python internship program\n",
      " everyline\n",
      "['welcome', 'to', 'python', 'internship', 'program\\n'] words\n",
      "5 length\n",
      "Hello everyone everyline\n",
      "['Hello', 'everyone'] words\n",
      "2 length\n"
     ]
    }
   ],
   "source": [
    "# split the data find how many words are present in each line\n",
    "with open(\"file.txt\",\"r\") as file:\n",
    "    data = file.readlines()\n",
    "    print(data)\n",
    "    for lines in data:\n",
    "        print(lines,\"everyline\")\n",
    "        words = lines.split(\" \")\n",
    "        print(words,\"words\")\n",
    "        print(len(words),\"length\")"
   ]
  }
 ],
 "metadata": {
  "kernelspec": {
   "display_name": "Python 3",
   "language": "python",
   "name": "python3"
  },
  "language_info": {
   "codemirror_mode": {
    "name": "ipython",
    "version": 3
   },
   "file_extension": ".py",
   "mimetype": "text/x-python",
   "name": "python",
   "nbconvert_exporter": "python",
   "pygments_lexer": "ipython3",
   "version": "3.7.4"
  }
 },
 "nbformat": 4,
 "nbformat_minor": 4
}
