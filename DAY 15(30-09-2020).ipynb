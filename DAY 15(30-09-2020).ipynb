{
 "cells": [
  {
   "cell_type": "markdown",
   "metadata": {},
   "source": [
    "# Dictionary\n",
    "- mutable\n",
    "- key,value-pair\n",
    "- key: any data type:int,str,float\n",
    "- values: any datatype and any data structure- list/tuple/set/str/dict\n",
    "- keys are are unique in nature\n",
    "- key,value together called as an item"
   ]
  },
  {
   "cell_type": "code",
   "execution_count": 1,
   "metadata": {},
   "outputs": [
    {
     "name": "stdout",
     "output_type": "stream",
     "text": [
      "{'key': 'value', 'string': 'name', 'integer': 12, 'float': 9.6, 123: 'int'}\n"
     ]
    }
   ],
   "source": [
    "dic={'key':'value','string':'name','integer':12,'float':9.6,123:\"int\"}\n",
    "print(dic)"
   ]
  },
  {
   "cell_type": "code",
   "execution_count": 1,
   "metadata": {},
   "outputs": [
    {
     "data": {
      "text/plain": [
       "['__class__',\n",
       " '__contains__',\n",
       " '__delattr__',\n",
       " '__delitem__',\n",
       " '__dir__',\n",
       " '__doc__',\n",
       " '__eq__',\n",
       " '__format__',\n",
       " '__ge__',\n",
       " '__getattribute__',\n",
       " '__getitem__',\n",
       " '__gt__',\n",
       " '__hash__',\n",
       " '__init__',\n",
       " '__init_subclass__',\n",
       " '__iter__',\n",
       " '__le__',\n",
       " '__len__',\n",
       " '__lt__',\n",
       " '__ne__',\n",
       " '__new__',\n",
       " '__reduce__',\n",
       " '__reduce_ex__',\n",
       " '__repr__',\n",
       " '__setattr__',\n",
       " '__setitem__',\n",
       " '__sizeof__',\n",
       " '__str__',\n",
       " '__subclasshook__',\n",
       " 'clear',\n",
       " 'copy',\n",
       " 'fromkeys',\n",
       " 'get',\n",
       " 'items',\n",
       " 'keys',\n",
       " 'pop',\n",
       " 'popitem',\n",
       " 'setdefault',\n",
       " 'update',\n",
       " 'values']"
      ]
     },
     "execution_count": 1,
     "metadata": {},
     "output_type": "execute_result"
    }
   ],
   "source": [
    "dir(dict)"
   ]
  },
  {
   "cell_type": "code",
   "execution_count": 2,
   "metadata": {},
   "outputs": [
    {
     "data": {
      "text/plain": [
       "{'key': 'value', 'string': 'name', 'integer': 12, 'float': 9.6, 123: 'int'}"
      ]
     },
     "execution_count": 2,
     "metadata": {},
     "output_type": "execute_result"
    }
   ],
   "source": [
    "dic1=dic.copy()\n",
    "dic1"
   ]
  },
  {
   "cell_type": "code",
   "execution_count": 3,
   "metadata": {},
   "outputs": [
    {
     "data": {
      "text/plain": [
       "{}"
      ]
     },
     "execution_count": 3,
     "metadata": {},
     "output_type": "execute_result"
    }
   ],
   "source": [
    "dic.clear()\n",
    "dic"
   ]
  },
  {
   "cell_type": "code",
   "execution_count": 4,
   "metadata": {},
   "outputs": [
    {
     "data": {
      "text/plain": [
       "'name'"
      ]
     },
     "execution_count": 4,
     "metadata": {},
     "output_type": "execute_result"
    }
   ],
   "source": [
    "dic1.get(\"string\")"
   ]
  },
  {
   "cell_type": "code",
   "execution_count": 5,
   "metadata": {},
   "outputs": [
    {
     "data": {
      "text/plain": [
       "'int'"
      ]
     },
     "execution_count": 5,
     "metadata": {},
     "output_type": "execute_result"
    }
   ],
   "source": [
    "dic1.get(123)"
   ]
  },
  {
   "cell_type": "code",
   "execution_count": 7,
   "metadata": {},
   "outputs": [
    {
     "data": {
      "text/plain": [
       "dict_items([('key', 'value'), ('string', 'name'), ('integer', 12), ('float', 9.6), (123, 'int')])"
      ]
     },
     "execution_count": 7,
     "metadata": {},
     "output_type": "execute_result"
    }
   ],
   "source": [
    "dic1.items()"
   ]
  },
  {
   "cell_type": "code",
   "execution_count": 8,
   "metadata": {},
   "outputs": [
    {
     "data": {
      "text/plain": [
       "dict_keys(['key', 'string', 'integer', 'float', 123])"
      ]
     },
     "execution_count": 8,
     "metadata": {},
     "output_type": "execute_result"
    }
   ],
   "source": [
    "dic1.keys()"
   ]
  },
  {
   "cell_type": "code",
   "execution_count": 9,
   "metadata": {},
   "outputs": [
    {
     "data": {
      "text/plain": [
       "dict_values(['value', 'name', 12, 9.6, 'int'])"
      ]
     },
     "execution_count": 9,
     "metadata": {},
     "output_type": "execute_result"
    }
   ],
   "source": [
    "dic1.values()"
   ]
  },
  {
   "cell_type": "code",
   "execution_count": 10,
   "metadata": {},
   "outputs": [
    {
     "data": {
      "text/plain": [
       "12"
      ]
     },
     "execution_count": 10,
     "metadata": {},
     "output_type": "execute_result"
    }
   ],
   "source": [
    "dic1.pop(\"integer\")"
   ]
  },
  {
   "cell_type": "code",
   "execution_count": 11,
   "metadata": {},
   "outputs": [
    {
     "data": {
      "text/plain": [
       "{'key': 'value', 'string': 'name', 'float': 9.6, 123: 'int'}"
      ]
     },
     "execution_count": 11,
     "metadata": {},
     "output_type": "execute_result"
    }
   ],
   "source": [
    "dic1"
   ]
  },
  {
   "cell_type": "code",
   "execution_count": 12,
   "metadata": {},
   "outputs": [
    {
     "data": {
      "text/plain": [
       "(123, 'int')"
      ]
     },
     "execution_count": 12,
     "metadata": {},
     "output_type": "execute_result"
    }
   ],
   "source": [
    "dic1.popitem()"
   ]
  },
  {
   "cell_type": "code",
   "execution_count": 13,
   "metadata": {},
   "outputs": [
    {
     "data": {
      "text/plain": [
       "{'key': 'value', 'string': 'name', 'float': 9.6, 12.3: 'abc', 12: 78}"
      ]
     },
     "execution_count": 13,
     "metadata": {},
     "output_type": "execute_result"
    }
   ],
   "source": [
    "dic1.update({12.3:\"abc\",12:78})\n",
    "dic1"
   ]
  },
  {
   "cell_type": "code",
   "execution_count": 14,
   "metadata": {},
   "outputs": [
    {
     "data": {
      "text/plain": [
       "{'key': 'value',\n",
       " 'string': 'name',\n",
       " 'float': 9.6,\n",
       " 12.3: 'abc',\n",
       " 12: 78,\n",
       " 1: ['int', 12, 34.3]}"
      ]
     },
     "execution_count": 14,
     "metadata": {},
     "output_type": "execute_result"
    }
   ],
   "source": [
    "dic1.update({1:[\"int\",12,34.3]})\n",
    "dic1"
   ]
  },
  {
   "cell_type": "code",
   "execution_count": 15,
   "metadata": {},
   "outputs": [
    {
     "data": {
      "text/plain": [
       "{'key': 'value',\n",
       " 'string': 'name',\n",
       " 'float': 9.6,\n",
       " 12.3: 'abc',\n",
       " 12: 78,\n",
       " 1: ['int', 12, 34.3],\n",
       " '23': 'apssdc'}"
      ]
     },
     "execution_count": 15,
     "metadata": {},
     "output_type": "execute_result"
    }
   ],
   "source": [
    "dic1[\"23\"]=\"apssdc\"\n",
    "dic1"
   ]
  },
  {
   "cell_type": "code",
   "execution_count": 16,
   "metadata": {},
   "outputs": [
    {
     "data": {
      "text/plain": [
       "{'key': 'value',\n",
       " 'string': 'tejaswini',\n",
       " 'float': 9.6,\n",
       " 12.3: 'abc',\n",
       " 12: 78,\n",
       " 1: ['int', 12, 34.3],\n",
       " '23': 'apssdc'}"
      ]
     },
     "execution_count": 16,
     "metadata": {},
     "output_type": "execute_result"
    }
   ],
   "source": [
    "dic1[\"string\"]=\"tejaswini\"\n",
    "dic1"
   ]
  },
  {
   "cell_type": "code",
   "execution_count": 17,
   "metadata": {},
   "outputs": [
    {
     "data": {
      "text/plain": [
       "{'keys': None, 'string': None}"
      ]
     },
     "execution_count": 17,
     "metadata": {},
     "output_type": "execute_result"
    }
   ],
   "source": [
    "x=(\"keys\",\"string\")\n",
    "dic1.fromkeys(x)"
   ]
  },
  {
   "cell_type": "code",
   "execution_count": 18,
   "metadata": {},
   "outputs": [
    {
     "data": {
      "text/plain": [
       "{'key': 'value',\n",
       " 'string': 'tejaswini',\n",
       " 'float': 9.6,\n",
       " 12.3: 'abc',\n",
       " 12: 78,\n",
       " 1: ['int', 12, 34.3],\n",
       " '23': 'apssdc'}"
      ]
     },
     "execution_count": 18,
     "metadata": {},
     "output_type": "execute_result"
    }
   ],
   "source": [
    "dic1"
   ]
  },
  {
   "cell_type": "code",
   "execution_count": 19,
   "metadata": {},
   "outputs": [
    {
     "data": {
      "text/plain": [
       "{'a': {'abc', 'alp', 'def', 'gj'},\n",
       " 'c': {'abc', 'alp', 'def', 'gj'},\n",
       " 'b': {'abc', 'alp', 'def', 'gj'},\n",
       " 'd': {'abc', 'alp', 'def', 'gj'}}"
      ]
     },
     "execution_count": 19,
     "metadata": {},
     "output_type": "execute_result"
    }
   ],
   "source": [
    "keys={\"a\",\"b\",\"c\",\"d\"}\n",
    "value={\"alp\",\"abc\",\"def\",\"gj\"}\n",
    "v=dict.fromkeys(keys,value)\n",
    "v"
   ]
  },
  {
   "cell_type": "code",
   "execution_count": 20,
   "metadata": {},
   "outputs": [
    {
     "name": "stdout",
     "output_type": "stream",
     "text": [
      "key\n",
      "string\n",
      "float\n",
      "12.3\n",
      "12\n",
      "1\n",
      "23\n"
     ]
    }
   ],
   "source": [
    "for item in dic1.keys():\n",
    "    print(item)"
   ]
  },
  {
   "cell_type": "code",
   "execution_count": 21,
   "metadata": {},
   "outputs": [
    {
     "name": "stdout",
     "output_type": "stream",
     "text": [
      "value\n",
      "tejaswini\n",
      "9.6\n",
      "abc\n",
      "78\n",
      "['int', 12, 34.3]\n",
      "apssdc\n"
     ]
    }
   ],
   "source": [
    "for item in dic1.values():\n",
    "    print(item)"
   ]
  },
  {
   "cell_type": "code",
   "execution_count": 22,
   "metadata": {},
   "outputs": [
    {
     "name": "stdout",
     "output_type": "stream",
     "text": [
      "('key', 'value')\n",
      "('string', 'tejaswini')\n",
      "('float', 9.6)\n",
      "(12.3, 'abc')\n",
      "(12, 78)\n",
      "(1, ['int', 12, 34.3])\n",
      "('23', 'apssdc')\n"
     ]
    }
   ],
   "source": [
    "for item in dic1.items():\n",
    "    print(item)"
   ]
  },
  {
   "cell_type": "code",
   "execution_count": 23,
   "metadata": {},
   "outputs": [
    {
     "name": "stdout",
     "output_type": "stream",
     "text": [
      "key : value\n",
      "string : tejaswini\n",
      "float : 9.6\n",
      "12.3 : abc\n",
      "12 : 78\n",
      "1 : ['int', 12, 34.3]\n",
      "23 : apssdc\n"
     ]
    }
   ],
   "source": [
    "for key,value in dic1.items():\n",
    "    print(key,value,sep=\" : \")"
   ]
  },
  {
   "cell_type": "code",
   "execution_count": 24,
   "metadata": {},
   "outputs": [
    {
     "data": {
      "text/plain": [
       "{1: 1,\n",
       " 2: 4,\n",
       " 3: 9,\n",
       " 4: 16,\n",
       " 5: 25,\n",
       " 6: 36,\n",
       " 7: 49,\n",
       " 8: 64,\n",
       " 9: 81,\n",
       " 10: 100,\n",
       " 11: 121,\n",
       " 12: 144,\n",
       " 13: 169,\n",
       " 14: 196,\n",
       " 15: 225}"
      ]
     },
     "execution_count": 24,
     "metadata": {},
     "output_type": "execute_result"
    }
   ],
   "source": [
    "# prepare a dictionary of squares values of numbers from 1 to 15\n",
    "squares={}\n",
    "for i in range(1,16):\n",
    "    squares[i]=i**2\n",
    "squares"
   ]
  },
  {
   "cell_type": "code",
   "execution_count": 25,
   "metadata": {},
   "outputs": [
    {
     "data": {
      "text/plain": [
       "{'A': 65, 'B': 66, 'C': 67, 'D': 68, 'E': 69, 'F': 70, 'G': 71, 'H': 72}"
      ]
     },
     "execution_count": 25,
     "metadata": {},
     "output_type": "execute_result"
    }
   ],
   "source": [
    "# prepare a dictionary of characters from A to H with their ASCII values\n",
    "# A to z =65 to 90\n",
    "# a to z=97 to 122\n",
    "d={}\n",
    "value=65\n",
    "for i in range(8):\n",
    "    d[chr(value)]=value\n",
    "    value+=1\n",
    "d"
   ]
  },
  {
   "cell_type": "code",
   "execution_count": 26,
   "metadata": {},
   "outputs": [
    {
     "data": {
      "text/plain": [
       "'B'"
      ]
     },
     "execution_count": 26,
     "metadata": {},
     "output_type": "execute_result"
    }
   ],
   "source": [
    "chr(66)"
   ]
  },
  {
   "cell_type": "code",
   "execution_count": 27,
   "metadata": {},
   "outputs": [
    {
     "data": {
      "text/plain": [
       "98"
      ]
     },
     "execution_count": 27,
     "metadata": {},
     "output_type": "execute_result"
    }
   ],
   "source": [
    "ord(\"b\")"
   ]
  },
  {
   "cell_type": "code",
   "execution_count": 28,
   "metadata": {},
   "outputs": [
    {
     "data": {
      "text/plain": [
       "{1: 3, 2: 4, 3: 1, 4: 2, 5: 1, 6: 1}"
      ]
     },
     "execution_count": 28,
     "metadata": {},
     "output_type": "execute_result"
    }
   ],
   "source": [
    "# counting the elements\n",
    "a=[1,2,3,4,5,6,4,2,2,1,1,2]\n",
    "d1={}\n",
    "for i in a:\n",
    "    d1[i]=a.count(i)\n",
    "d1"
   ]
  },
  {
   "cell_type": "code",
   "execution_count": 29,
   "metadata": {},
   "outputs": [
    {
     "data": {
      "text/plain": [
       "{1: 3, 2: 4, 3: 1, 4: 2, 5: 1, 6: 1}"
      ]
     },
     "execution_count": 29,
     "metadata": {},
     "output_type": "execute_result"
    }
   ],
   "source": [
    "# (or)\n",
    "d={}\n",
    "for i in a:\n",
    "    if i not in d:\n",
    "        d[i]=1\n",
    "    else:\n",
    "        d[i]+=1\n",
    "d"
   ]
  },
  {
   "cell_type": "markdown",
   "metadata": {},
   "source": [
    "# Packages and Modules"
   ]
  },
  {
   "cell_type": "code",
   "execution_count": 30,
   "metadata": {},
   "outputs": [
    {
     "name": "stdout",
     "output_type": "stream",
     "text": [
      "\n",
      "Please wait a moment while I gather a list of all available modules...\n",
      "\n"
     ]
    },
    {
     "name": "stderr",
     "output_type": "stream",
     "text": [
      "c:\\users\\admin\\appdata\\local\\programs\\python\\python37\\lib\\site-packages\\IPython\\kernel\\__init__.py:13: ShimWarning: The `IPython.kernel` package has been deprecated since IPython 4.0.You should import from ipykernel or jupyter_client instead.\n",
      "  \"You should import from ipykernel or jupyter_client instead.\", ShimWarning)\n",
      "c:\\users\\admin\\appdata\\local\\programs\\python\\python37\\lib\\pkgutil.py:107: VisibleDeprecationWarning: zmq.eventloop.minitornado is deprecated in pyzmq 14.0 and will be removed.\n",
      "    Install tornado itself to use zmq with the tornado IOLoop.\n",
      "    \n",
      "  yield from walk_packages(path, info.name+'.', onerror)\n"
     ]
    },
    {
     "name": "stdout",
     "output_type": "stream",
     "text": [
      "IPython             bz2                 mmap                symbol\n",
      "__future__          cProfile            mmapfile            sympyprinting\n",
      "_abc                calendar            mmsystem            symtable\n",
      "_ast                cffi                modulefinder        sys\n",
      "_asyncio            cgi                 msilib              sysconfig\n",
      "_bisect             cgitb               msvcrt              tabnanny\n",
      "_blake2             chunk               multiprocessing     tarfile\n",
      "_bootlocale         cmath               nbclient            telnetlib\n",
      "_bz2                cmd                 nbconvert           tempfile\n",
      "_cffi_backend       code                nbformat            terminado\n",
      "_codecs             codecs              nest_asyncio        test\n",
      "_codecs_cn          codeop              netbios             testpath\n",
      "_codecs_hk          collections         netrc               tests\n",
      "_codecs_iso2022     colorama            nntplib             textwrap\n",
      "_codecs_jp          colorsys            notebook            this\n",
      "_codecs_kr          commctrl            nt                  threading\n",
      "_codecs_tw          compileall          ntpath              time\n",
      "_collections        concurrent          ntsecuritycon       timeit\n",
      "_collections_abc    configparser        nturl2path          timer\n",
      "_compat_pickle      contextlib          numbers             tkinter\n",
      "_compression        contextvars         odbc                token\n",
      "_contextvars        copy                opcode              tokenize\n",
      "_csv                copyreg             operator            tornado\n",
      "_ctypes             crypt               optparse            trace\n",
      "_ctypes_test        csv                 os                  traceback\n",
      "_datetime           ctypes              packaging           tracemalloc\n",
      "_decimal            curses              pandocfilters       traitlets\n",
      "_dummy_thread       cythonmagic         parser              tty\n",
      "_elementtree        dataclasses         parso               turtle\n",
      "_functools          datetime            pathlib             turtledemo\n",
      "_hashlib            dateutil            pdb                 types\n",
      "_heapq              day1                perfmon             typing\n",
      "_imp                day2                pickle              unicodedata\n",
      "_io                 dbi                 pickleshare         unittest\n",
      "_json               dbm                 pickletools         urllib\n",
      "_locale             dde                 pip                 uu\n",
      "_lsprof             decimal             pipes               uuid\n",
      "_lzma               decorator           pkg_resources       venv\n",
      "_markupbase         defusedxml          pkgutil             warnings\n",
      "_md5                difflib             platform            wave\n",
      "_msi                dis                 plistlib            wcwidth\n",
      "_multibytecodec     distutils           poplib              weakref\n",
      "_multiprocessing    doctest             posixpath           webbrowser\n",
      "_opcode             dummy_threading     pprint              webencodings\n",
      "_operator           easy_install        profile             widgetsnbextension\n",
      "_osx_support        email               prometheus_client   win2kras\n",
      "_overlapped         encodings           prompt_toolkit      win32api\n",
      "_pickle             ensurepip           pstats              win32clipboard\n",
      "_py_abc             entrypoints         pty                 win32com\n",
      "_pydecimal          enum                py_compile          win32con\n",
      "_pyio               errno               pyclbr              win32console\n",
      "_pyrsistent_version faulthandler        pycparser           win32cred\n",
      "_queue              filecmp             pydoc               win32crypt\n",
      "_random             fileinput           pydoc_data          win32cryptcon\n",
      "_sha1               fnmatch             pyexpat             win32event\n",
      "_sha256             formatter           pygments            win32evtlog\n",
      "_sha3               fractions           pyparsing           win32evtlogutil\n",
      "_sha512             ftplib              pyrsistent          win32file\n",
      "_signal             functools           pythoncom           win32gui\n",
      "_sitebuiltins       gc                  pywin               win32gui_struct\n",
      "_socket             genericpath         pywin32_bootstrap   win32help\n",
      "_sqlite3            getopt              pywin32_testutil    win32inet\n",
      "_sre                getpass             pywintypes          win32inetcon\n",
      "_ssl                gettext             qtconsole           win32job\n",
      "_stat               glob                qtpy                win32lz\n",
      "_string             gzip                queue               win32net\n",
      "_strptime           hashlib             quopri              win32netcon\n",
      "_struct             heapq               random              win32pdh\n",
      "_symtable           hmac                rasutil             win32pdhquery\n",
      "_testbuffer         html                re                  win32pdhutil\n",
      "_testcapi           http                regcheck            win32pipe\n",
      "_testconsole        idlelib             regutil             win32print\n",
      "_testimportmultiple imaplib             reprlib             win32process\n",
      "_testmultiphase     imghdr              rlcompleter         win32profile\n",
      "_thread             imp                 rmagic              win32ras\n",
      "_threading_local    importlib           runpy               win32rcparser\n",
      "_tkinter            importlib_metadata  sched               win32security\n",
      "_tracemalloc        inspect             secrets             win32service\n",
      "_warnings           io                  select              win32serviceutil\n",
      "_weakref            ipaddress           selectors           win32timezone\n",
      "_weakrefset         ipykernel           send2trash          win32trace\n",
      "_win32sysloader     ipykernel_launcher  servicemanager      win32traceutil\n",
      "_winapi             ipython_genutils    setuptools          win32transaction\n",
      "_winxptheme         ipywidgets          shelve              win32ts\n",
      "abc                 isapi               shlex               win32ui\n",
      "adodbapi            itertools           shutil              win32uiole\n",
      "afxres              jedi                signal              win32verstamp\n",
      "aifc                jinja2              site                win32wnet\n",
      "antigravity         json                six                 winerror\n",
      "argon2              jsonschema          smtpd               winioctlcon\n",
      "argparse            jupyter             smtplib             winnt\n",
      "array               jupyter_client      sndhdr              winperf\n",
      "ast                 jupyter_console     socket              winpty\n",
      "async_generator     jupyter_core        socketserver        winreg\n",
      "asynchat            jupyterlab_pygments sqlite3             winsound\n",
      "asyncio             keyword             sre_compile         winxpgui\n",
      "asyncore            lib2to3             sre_constants       winxptheme\n",
      "atexit              linecache           sre_parse           wsgiref\n",
      "attr                locale              ssl                 xdrlib\n",
      "audioop             logging             sspi                xml\n",
      "autoreload          lzma                sspicon             xmlrpc\n",
      "backcall            macpath             stat                xxsubtype\n",
      "base64              mailbox             statistics          zipapp\n",
      "bdb                 mailcap             storemagic          zipfile\n",
      "binascii            markupsafe          string              zipimport\n",
      "binhex              marshal             stringprep          zipp\n",
      "bisect              math                struct              zlib\n",
      "bleach              mimetypes           subprocess          zmq\n",
      "builtins            mistune             sunau               \n",
      "\n",
      "Enter any module name to get more help.  Or, type \"modules spam\" to search\n",
      "for modules whose name or summary contain the string \"spam\".\n",
      "\n"
     ]
    }
   ],
   "source": [
    "help(\"modules\")"
   ]
  },
  {
   "cell_type": "code",
   "execution_count": 32,
   "metadata": {},
   "outputs": [
    {
     "name": "stdout",
     "output_type": "stream",
     "text": [
      "['__doc__', '__loader__', '__name__', '__package__', '__spec__', 'acos', 'acosh', 'asin', 'asinh', 'atan', 'atan2', 'atanh', 'ceil', 'copysign', 'cos', 'cosh', 'degrees', 'e', 'erf', 'erfc', 'exp', 'expm1', 'fabs', 'factorial', 'floor', 'fmod', 'frexp', 'fsum', 'gamma', 'gcd', 'hypot', 'inf', 'isclose', 'isfinite', 'isinf', 'isnan', 'ldexp', 'lgamma', 'log', 'log10', 'log1p', 'log2', 'modf', 'nan', 'pi', 'pow', 'radians', 'remainder', 'sin', 'sinh', 'sqrt', 'tan', 'tanh', 'tau', 'trunc']\n"
     ]
    }
   ],
   "source": [
    "import math\n",
    "print(dir(math))"
   ]
  },
  {
   "cell_type": "code",
   "execution_count": 33,
   "metadata": {},
   "outputs": [
    {
     "name": "stdout",
     "output_type": "stream",
     "text": [
      "['__doc__', '__loader__', '__name__', '__package__', '__spec__', 'acos', 'acosh', 'asin', 'asinh', 'atan', 'atan2', 'atanh', 'ceil', 'copysign', 'cos', 'cosh', 'degrees', 'e', 'erf', 'erfc', 'exp', 'expm1', 'fabs', 'factorial', 'floor', 'fmod', 'frexp', 'fsum', 'gamma', 'gcd', 'hypot', 'inf', 'isclose', 'isfinite', 'isinf', 'isnan', 'ldexp', 'lgamma', 'log', 'log10', 'log1p', 'log2', 'modf', 'nan', 'pi', 'pow', 'radians', 'remainder', 'sin', 'sinh', 'sqrt', 'tan', 'tanh', 'tau', 'trunc']\n"
     ]
    }
   ],
   "source": [
    "print(dir(math))"
   ]
  },
  {
   "cell_type": "code",
   "execution_count": 34,
   "metadata": {},
   "outputs": [
    {
     "data": {
      "text/plain": [
       "3.1622776601683795"
      ]
     },
     "execution_count": 34,
     "metadata": {},
     "output_type": "execute_result"
    }
   ],
   "source": [
    "math.sqrt(10)"
   ]
  },
  {
   "cell_type": "code",
   "execution_count": 35,
   "metadata": {},
   "outputs": [
    {
     "data": {
      "text/plain": [
       "120"
      ]
     },
     "execution_count": 35,
     "metadata": {},
     "output_type": "execute_result"
    }
   ],
   "source": [
    "math.factorial(5)"
   ]
  },
  {
   "cell_type": "code",
   "execution_count": 36,
   "metadata": {},
   "outputs": [
    {
     "name": "stdout",
     "output_type": "stream",
     "text": [
      "Package             Version\n",
      "------------------- -------\n",
      "argon2-cffi         20.1.0 \n",
      "async-generator     1.10   \n",
      "attrs               20.2.0 \n",
      "backcall            0.2.0  \n",
      "bleach              3.1.5  \n",
      "cffi                1.14.3 \n",
      "colorama            0.4.3  \n",
      "decorator           4.4.2  \n",
      "defusedxml          0.6.0  \n",
      "entrypoints         0.3    \n",
      "importlib-metadata  1.7.0  \n",
      "ipykernel           5.3.4  \n",
      "ipython             7.18.1 \n",
      "ipython-genutils    0.2.0  \n",
      "ipywidgets          7.5.1  \n",
      "jedi                0.17.2 \n",
      "Jinja2              2.11.2 \n",
      "jsonschema          3.2.0  \n",
      "jupyter             1.0.0  \n",
      "jupyter-client      6.1.7  \n",
      "jupyter-console     6.2.0  \n",
      "jupyter-core        4.6.3  \n",
      "jupyterlab-pygments 0.1.1  \n",
      "MarkupSafe          1.1.1  \n",
      "mistune             0.8.4  \n",
      "nbclient            0.5.0  \n",
      "nbconvert           6.0.2  \n",
      "nbformat            5.0.7  \n",
      "nest-asyncio        1.4.0  \n",
      "notebook            6.1.4  \n",
      "packaging           20.4   \n",
      "pandocfilters       1.4.2  \n",
      "parso               0.7.1  \n",
      "pickleshare         0.7.5  \n",
      "pip                 19.0.3 \n",
      "prometheus-client   0.8.0  \n",
      "prompt-toolkit      3.0.7  \n",
      "pycparser           2.20   \n",
      "Pygments            2.7.0  \n",
      "pyparsing           2.4.7  \n",
      "pyrsistent          0.17.3 \n",
      "python-dateutil     2.8.1  \n",
      "pywin32             228    \n",
      "pywinpty            0.5.7  \n",
      "pyzmq               19.0.2 \n",
      "qtconsole           4.7.7  \n",
      "QtPy                1.9.0  \n",
      "Send2Trash          1.5.0  \n",
      "setuptools          40.8.0 \n",
      "six                 1.15.0 \n",
      "terminado           0.8.3  \n",
      "testpath            0.4.4  \n",
      "tornado             6.0.4  \n",
      "traitlets           5.0.4  \n",
      "wcwidth             0.2.5  \n",
      "webencodings        0.5.1  \n",
      "widgetsnbextension  3.5.1  \n",
      "zipp                3.1.0  \n",
      "Note: you may need to restart the kernel to use updated packages.\n"
     ]
    },
    {
     "name": "stderr",
     "output_type": "stream",
     "text": [
      "You are using pip version 19.0.3, however version 20.2.3 is available.\n",
      "You should consider upgrading via the 'python -m pip install --upgrade pip' command.\n"
     ]
    }
   ],
   "source": [
    "pip list"
   ]
  },
  {
   "cell_type": "code",
   "execution_count": 37,
   "metadata": {},
   "outputs": [
    {
     "ename": "ModuleNotFoundError",
     "evalue": "No module named 'module'",
     "output_type": "error",
     "traceback": [
      "\u001b[1;31m---------------------------------------------------------------------------\u001b[0m",
      "\u001b[1;31mModuleNotFoundError\u001b[0m                       Traceback (most recent call last)",
      "\u001b[1;32m<ipython-input-37-ed3cf0961e67>\u001b[0m in \u001b[0;36m<module>\u001b[1;34m\u001b[0m\n\u001b[1;32m----> 1\u001b[1;33m \u001b[1;32mimport\u001b[0m \u001b[0mmodule\u001b[0m\u001b[1;33m\u001b[0m\u001b[1;33m\u001b[0m\u001b[0m\n\u001b[0m",
      "\u001b[1;31mModuleNotFoundError\u001b[0m: No module named 'module'"
     ]
    }
   ],
   "source": [
    "import module"
   ]
  },
  {
   "cell_type": "code",
   "execution_count": 38,
   "metadata": {},
   "outputs": [
    {
     "ename": "NameError",
     "evalue": "name 'module' is not defined",
     "output_type": "error",
     "traceback": [
      "\u001b[1;31m---------------------------------------------------------------------------\u001b[0m",
      "\u001b[1;31mNameError\u001b[0m                                 Traceback (most recent call last)",
      "\u001b[1;32m<ipython-input-38-293d5729a601>\u001b[0m in \u001b[0;36m<module>\u001b[1;34m\u001b[0m\n\u001b[1;32m----> 1\u001b[1;33m \u001b[0mhelp\u001b[0m\u001b[1;33m(\u001b[0m\u001b[0mmodule\u001b[0m\u001b[1;33m)\u001b[0m\u001b[1;33m\u001b[0m\u001b[1;33m\u001b[0m\u001b[0m\n\u001b[0m",
      "\u001b[1;31mNameError\u001b[0m: name 'module' is not defined"
     ]
    }
   ],
   "source": [
    "help(module)"
   ]
  },
  {
   "cell_type": "code",
   "execution_count": 39,
   "metadata": {},
   "outputs": [
    {
     "ename": "NameError",
     "evalue": "name 'module' is not defined",
     "output_type": "error",
     "traceback": [
      "\u001b[1;31m---------------------------------------------------------------------------\u001b[0m",
      "\u001b[1;31mNameError\u001b[0m                                 Traceback (most recent call last)",
      "\u001b[1;32m<ipython-input-39-37ac859ea0d5>\u001b[0m in \u001b[0;36m<module>\u001b[1;34m\u001b[0m\n\u001b[1;32m----> 1\u001b[1;33m \u001b[0mmodule\u001b[0m\u001b[1;33m.\u001b[0m\u001b[0mgreeting\u001b[0m\u001b[1;33m(\u001b[0m\u001b[1;34m\"mac\"\u001b[0m\u001b[1;33m)\u001b[0m\u001b[1;33m\u001b[0m\u001b[1;33m\u001b[0m\u001b[0m\n\u001b[0m",
      "\u001b[1;31mNameError\u001b[0m: name 'module' is not defined"
     ]
    }
   ],
   "source": [
    "module.greeting(\"mac\")"
   ]
  },
  {
   "cell_type": "code",
   "execution_count": 40,
   "metadata": {},
   "outputs": [
    {
     "ename": "ModuleNotFoundError",
     "evalue": "No module named 'pack'",
     "output_type": "error",
     "traceback": [
      "\u001b[1;31m---------------------------------------------------------------------------\u001b[0m",
      "\u001b[1;31mModuleNotFoundError\u001b[0m                       Traceback (most recent call last)",
      "\u001b[1;32m<ipython-input-40-93fd753515df>\u001b[0m in \u001b[0;36m<module>\u001b[1;34m\u001b[0m\n\u001b[1;32m----> 1\u001b[1;33m \u001b[1;32mfrom\u001b[0m \u001b[0mpack\u001b[0m \u001b[1;32mimport\u001b[0m \u001b[0mfile\u001b[0m\u001b[1;33m\u001b[0m\u001b[1;33m\u001b[0m\u001b[0m\n\u001b[0m",
      "\u001b[1;31mModuleNotFoundError\u001b[0m: No module named 'pack'"
     ]
    }
   ],
   "source": [
    "from pack import file"
   ]
  },
  {
   "cell_type": "code",
   "execution_count": 41,
   "metadata": {},
   "outputs": [
    {
     "ename": "NameError",
     "evalue": "name 'file' is not defined",
     "output_type": "error",
     "traceback": [
      "\u001b[1;31m---------------------------------------------------------------------------\u001b[0m",
      "\u001b[1;31mNameError\u001b[0m                                 Traceback (most recent call last)",
      "\u001b[1;32m<ipython-input-41-403439f5d1f9>\u001b[0m in \u001b[0;36m<module>\u001b[1;34m\u001b[0m\n\u001b[1;32m----> 1\u001b[1;33m \u001b[0mhelp\u001b[0m\u001b[1;33m(\u001b[0m\u001b[0mfile\u001b[0m\u001b[1;33m)\u001b[0m\u001b[1;33m\u001b[0m\u001b[1;33m\u001b[0m\u001b[0m\n\u001b[0m",
      "\u001b[1;31mNameError\u001b[0m: name 'file' is not defined"
     ]
    }
   ],
   "source": [
    "help(file)"
   ]
  },
  {
   "cell_type": "code",
   "execution_count": 42,
   "metadata": {},
   "outputs": [
    {
     "ename": "NameError",
     "evalue": "name 'file' is not defined",
     "output_type": "error",
     "traceback": [
      "\u001b[1;31m---------------------------------------------------------------------------\u001b[0m",
      "\u001b[1;31mNameError\u001b[0m                                 Traceback (most recent call last)",
      "\u001b[1;32m<ipython-input-42-b3ab1893c6f1>\u001b[0m in \u001b[0;36m<module>\u001b[1;34m\u001b[0m\n\u001b[1;32m----> 1\u001b[1;33m \u001b[0mfile\u001b[0m\u001b[1;33m.\u001b[0m\u001b[0meven\u001b[0m\u001b[1;33m(\u001b[0m\u001b[1;36m8\u001b[0m\u001b[1;33m)\u001b[0m\u001b[1;33m\u001b[0m\u001b[1;33m\u001b[0m\u001b[0m\n\u001b[0m",
      "\u001b[1;31mNameError\u001b[0m: name 'file' is not defined"
     ]
    }
   ],
   "source": [
    " file.even(8)"
   ]
  },
  {
   "cell_type": "code",
   "execution_count": 43,
   "metadata": {},
   "outputs": [
    {
     "name": "stdout",
     "output_type": "stream",
     "text": [
      "{'a': 97, 'b': 98, 'c': 99, 'd': 100, 'e': 101, 'f': 102, 'g': 103, 'h': 104}\n",
      "{'A': 65, 'B': 66, 'C': 67, 'D': 68, 'E': 69, 'F': 70, 'G': 71, 'H': 72}\n"
     ]
    }
   ],
   "source": [
    "small={}\n",
    "caps={}\n",
    "for i in range(97,105):\n",
    "    small[chr(i)]=i\n",
    "for i in range(65,73):\n",
    "    caps[chr(i)]=i\n",
    "    \n",
    "print(small)\n",
    "print(caps)"
   ]
  },
  {
   "cell_type": "code",
   "execution_count": 44,
   "metadata": {},
   "outputs": [
    {
     "ename": "TypeError",
     "evalue": "'set' object is not subscriptable",
     "output_type": "error",
     "traceback": [
      "\u001b[1;31m---------------------------------------------------------------------------\u001b[0m",
      "\u001b[1;31mTypeError\u001b[0m                                 Traceback (most recent call last)",
      "\u001b[1;32m<ipython-input-44-6aa2048fa807>\u001b[0m in \u001b[0;36m<module>\u001b[1;34m\u001b[0m\n\u001b[0;32m      3\u001b[0m \u001b[1;32mfor\u001b[0m \u001b[0mi\u001b[0m \u001b[1;32min\u001b[0m \u001b[0mrange\u001b[0m\u001b[1;33m(\u001b[0m\u001b[1;36m0\u001b[0m\u001b[1;33m,\u001b[0m\u001b[0mlen\u001b[0m\u001b[1;33m(\u001b[0m\u001b[0ma\u001b[0m\u001b[1;33m)\u001b[0m\u001b[1;33m)\u001b[0m\u001b[1;33m:\u001b[0m\u001b[1;33m\u001b[0m\u001b[1;33m\u001b[0m\u001b[0m\n\u001b[0;32m      4\u001b[0m     \u001b[1;32mfor\u001b[0m \u001b[0mj\u001b[0m \u001b[1;32min\u001b[0m \u001b[0mrange\u001b[0m\u001b[1;33m(\u001b[0m\u001b[1;36m0\u001b[0m\u001b[1;33m,\u001b[0m\u001b[0mlen\u001b[0m\u001b[1;33m(\u001b[0m\u001b[0ma\u001b[0m\u001b[1;33m)\u001b[0m\u001b[1;33m)\u001b[0m\u001b[1;33m:\u001b[0m\u001b[1;33m\u001b[0m\u001b[1;33m\u001b[0m\u001b[0m\n\u001b[1;32m----> 5\u001b[1;33m         \u001b[1;32mif\u001b[0m\u001b[1;33m(\u001b[0m\u001b[0ma\u001b[0m\u001b[1;33m[\u001b[0m\u001b[0mi\u001b[0m\u001b[1;33m]\u001b[0m\u001b[1;33m==\u001b[0m\u001b[0ma\u001b[0m\u001b[1;33m[\u001b[0m\u001b[0mj\u001b[0m\u001b[1;33m]\u001b[0m\u001b[1;33m)\u001b[0m\u001b[1;33m:\u001b[0m\u001b[1;33m\u001b[0m\u001b[1;33m\u001b[0m\u001b[0m\n\u001b[0m\u001b[0;32m      6\u001b[0m             \u001b[0mc\u001b[0m\u001b[1;33m=\u001b[0m\u001b[0mc\u001b[0m\u001b[1;33m+\u001b[0m\u001b[1;36m1\u001b[0m\u001b[1;33m\u001b[0m\u001b[1;33m\u001b[0m\u001b[0m\n\u001b[0;32m      7\u001b[0m     \u001b[0ma\u001b[0m\u001b[1;33m[\u001b[0m\u001b[0mi\u001b[0m\u001b[1;33m]\u001b[0m\u001b[1;33m=\u001b[0m\u001b[0mc\u001b[0m\u001b[1;33m\u001b[0m\u001b[1;33m\u001b[0m\u001b[0m\n",
      "\u001b[1;31mTypeError\u001b[0m: 'set' object is not subscriptable"
     ]
    }
   ],
   "source": [
    "a={1,2,3,2,1,3,4,4,4,4,4,5,6,1}\n",
    "c=0\n",
    "for i in range(0,len(a)):\n",
    "    for j in range(0,len(a)):\n",
    "        if(a[i]==a[j]):\n",
    "            c=c+1\n",
    "    a[i]=c\n",
    "a"
   ]
  },
  {
   "cell_type": "code",
   "execution_count": null,
   "metadata": {},
   "outputs": [],
   "source": []
  }
 ],
 "metadata": {
  "kernelspec": {
   "display_name": "Python 3",
   "language": "python",
   "name": "python3"
  },
  "language_info": {
   "codemirror_mode": {
    "name": "ipython",
    "version": 3
   },
   "file_extension": ".py",
   "mimetype": "text/x-python",
   "name": "python",
   "nbconvert_exporter": "python",
   "pygments_lexer": "ipython3",
   "version": "3.7.4"
  }
 },
 "nbformat": 4,
 "nbformat_minor": 4
}
